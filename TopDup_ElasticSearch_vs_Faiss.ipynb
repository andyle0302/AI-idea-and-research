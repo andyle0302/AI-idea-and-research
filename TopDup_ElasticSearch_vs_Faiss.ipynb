{
  "nbformat": 4,
  "nbformat_minor": 0,
  "metadata": {
    "colab": {
      "name": "TopDup_ElasticSearch_vs_Faiss.ipynb",
      "provenance": [],
      "collapsed_sections": [],
      "toc_visible": true,
      "include_colab_link": true
    },
    "kernelspec": {
      "display_name": "Python 3",
      "name": "python3"
    }
  },
  "cells": [
    {
      "cell_type": "markdown",
      "metadata": {
        "id": "view-in-github",
        "colab_type": "text"
      },
      "source": [
        "<a href=\"https://colab.research.google.com/github/qtuter1997/AI-idea-and-research/blob/main/TopDup_ElasticSearch_vs_Faiss.ipynb\" target=\"_parent\"><img src=\"https://colab.research.google.com/assets/colab-badge.svg\" alt=\"Open In Colab\"/></a>"
      ]
    },
    {
      "cell_type": "markdown",
      "metadata": {
        "id": "jtUv8NBwtRYF"
      },
      "source": [
        "# Elastic Search"
      ]
    },
    {
      "cell_type": "code",
      "metadata": {
        "id": "3t99eouheIne"
      },
      "source": [
        "! wget https://artifacts.elastic.co/downloads/elasticsearch/elasticsearch-7.6.2-linux-x86_64.tar.gz -q\n",
        "! tar -xzf elasticsearch-7.6.2-linux-x86_64.tar.gz\n",
        "! chown -R daemon:daemon elasticsearch-7.6.2"
      ],
      "execution_count": null,
      "outputs": []
    },
    {
      "cell_type": "code",
      "metadata": {
        "id": "MnvBG5MGmeL0"
      },
      "source": [
        "\n",
        "import os\n",
        "from subprocess import Popen, PIPE, STDOUT\n",
        "es_server = Popen(['elasticsearch-7.6.2/bin/elasticsearch'],\n",
        "                   stdout=PIPE, stderr=STDOUT,\n",
        "                   preexec_fn=lambda: os.setuid(1) \n",
        "                  )\n",
        "! sleep 40"
      ],
      "execution_count": null,
      "outputs": []
    },
    {
      "cell_type": "code",
      "metadata": {
        "colab": {
          "base_uri": "https://localhost:8080/"
        },
        "id": "w1i7zQxjeLae",
        "outputId": "e380836a-3d23-41f1-e3be-9a937bd99e41"
      },
      "source": [
        "!curl -X GET \"localhost:9200/\""
      ],
      "execution_count": null,
      "outputs": [
        {
          "output_type": "stream",
          "text": [
            "{\n",
            "  \"name\" : \"bef15f39db8c\",\n",
            "  \"cluster_name\" : \"elasticsearch\",\n",
            "  \"cluster_uuid\" : \"ME_ThUqGTxmrLIgj0bymww\",\n",
            "  \"version\" : {\n",
            "    \"number\" : \"7.6.2\",\n",
            "    \"build_flavor\" : \"default\",\n",
            "    \"build_type\" : \"tar\",\n",
            "    \"build_hash\" : \"ef48eb35cf30adf4db14086e8aabd07ef6fb113f\",\n",
            "    \"build_date\" : \"2020-03-26T06:34:37.794943Z\",\n",
            "    \"build_snapshot\" : false,\n",
            "    \"lucene_version\" : \"8.4.0\",\n",
            "    \"minimum_wire_compatibility_version\" : \"6.8.0\",\n",
            "    \"minimum_index_compatibility_version\" : \"6.0.0-beta1\"\n",
            "  },\n",
            "  \"tagline\" : \"You Know, for Search\"\n",
            "}\n"
          ],
          "name": "stdout"
        }
      ]
    },
    {
      "cell_type": "code",
      "metadata": {
        "colab": {
          "base_uri": "https://localhost:8080/"
        },
        "id": "QGKWsVdmegPH",
        "outputId": "d235b5e2-fe46-4864-f875-ce6b459f7cfa"
      },
      "source": [
        "!pip install elasticsearch -q\n",
        "from elasticsearch import Elasticsearch\n",
        "from elasticsearch.helpers import bulk\n",
        "es = Elasticsearch()\n",
        "es.ping()  "
      ],
      "execution_count": null,
      "outputs": [
        {
          "output_type": "stream",
          "text": [
            "\u001b[?25l\r\u001b[K     |█                               | 10kB 18.7MB/s eta 0:00:01\r\u001b[K     |██                              | 20kB 22.2MB/s eta 0:00:01\r\u001b[K     |███                             | 30kB 10.9MB/s eta 0:00:01\r\u001b[K     |████                            | 40kB 8.8MB/s eta 0:00:01\r\u001b[K     |█████                           | 51kB 4.4MB/s eta 0:00:01\r\u001b[K     |██████                          | 61kB 4.8MB/s eta 0:00:01\r\u001b[K     |███████▏                        | 71kB 5.1MB/s eta 0:00:01\r\u001b[K     |████████▏                       | 81kB 5.3MB/s eta 0:00:01\r\u001b[K     |█████████▏                      | 92kB 5.7MB/s eta 0:00:01\r\u001b[K     |██████████▏                     | 102kB 4.3MB/s eta 0:00:01\r\u001b[K     |███████████▏                    | 112kB 4.3MB/s eta 0:00:01\r\u001b[K     |████████████▏                   | 122kB 4.3MB/s eta 0:00:01\r\u001b[K     |█████████████▎                  | 133kB 4.3MB/s eta 0:00:01\r\u001b[K     |██████████████▎                 | 143kB 4.3MB/s eta 0:00:01\r\u001b[K     |███████████████▎                | 153kB 4.3MB/s eta 0:00:01\r\u001b[K     |████████████████▎               | 163kB 4.3MB/s eta 0:00:01\r\u001b[K     |█████████████████▎              | 174kB 4.3MB/s eta 0:00:01\r\u001b[K     |██████████████████▎             | 184kB 4.3MB/s eta 0:00:01\r\u001b[K     |███████████████████▎            | 194kB 4.3MB/s eta 0:00:01\r\u001b[K     |████████████████████▍           | 204kB 4.3MB/s eta 0:00:01\r\u001b[K     |█████████████████████▍          | 215kB 4.3MB/s eta 0:00:01\r\u001b[K     |██████████████████████▍         | 225kB 4.3MB/s eta 0:00:01\r\u001b[K     |███████████████████████▍        | 235kB 4.3MB/s eta 0:00:01\r\u001b[K     |████████████████████████▍       | 245kB 4.3MB/s eta 0:00:01\r\u001b[K     |█████████████████████████▍      | 256kB 4.3MB/s eta 0:00:01\r\u001b[K     |██████████████████████████▌     | 266kB 4.3MB/s eta 0:00:01\r\u001b[K     |███████████████████████████▌    | 276kB 4.3MB/s eta 0:00:01\r\u001b[K     |████████████████████████████▌   | 286kB 4.3MB/s eta 0:00:01\r\u001b[K     |█████████████████████████████▌  | 296kB 4.3MB/s eta 0:00:01\r\u001b[K     |██████████████████████████████▌ | 307kB 4.3MB/s eta 0:00:01\r\u001b[K     |███████████████████████████████▌| 317kB 4.3MB/s eta 0:00:01\r\u001b[K     |████████████████████████████████| 327kB 4.3MB/s \n",
            "\u001b[?25h"
          ],
          "name": "stdout"
        },
        {
          "output_type": "execute_result",
          "data": {
            "text/plain": [
              "True"
            ]
          },
          "metadata": {
            "tags": []
          },
          "execution_count": 4
        }
      ]
    },
    {
      "cell_type": "code",
      "metadata": {
        "colab": {
          "base_uri": "https://localhost:8080/"
        },
        "id": "BSR8Zb7_X7oy",
        "outputId": "aae055c1-3ed9-4898-b692-8f6667626ff5"
      },
      "source": [
        "NUM_DIMENTION = 128\n",
        "N_QUERY = 300\n",
        "N_DATA = 1000000\n",
        "INDEX_NAME = 'test_matrix_array'\n",
        "\n",
        "create_query = {\n",
        "    \"mappings\": {\n",
        "        \"properties\": {\n",
        "            \"vector\": {\n",
        "                \"type\": \"dense_vector\",\n",
        "                \"dims\": NUM_DIMENTION,\n",
        "            }\n",
        "        }\n",
        "    }\n",
        "}\n",
        "\n",
        "es.indices.create(index=INDEX_NAME, body=create_query)"
      ],
      "execution_count": null,
      "outputs": [
        {
          "output_type": "execute_result",
          "data": {
            "text/plain": [
              "{'acknowledged': True,\n",
              " 'index': 'test_matrix_array',\n",
              " 'shards_acknowledged': True}"
            ]
          },
          "metadata": {
            "tags": []
          },
          "execution_count": 5
        }
      ]
    },
    {
      "cell_type": "code",
      "metadata": {
        "colab": {
          "base_uri": "https://localhost:8080/"
        },
        "id": "KOw6yGmJYCOl",
        "outputId": "ca2064af-4202-4ddd-996c-2667f2373e38"
      },
      "source": [
        " es.indices.get_alias(\"*\")"
      ],
      "execution_count": null,
      "outputs": [
        {
          "output_type": "execute_result",
          "data": {
            "text/plain": [
              "{'test_matrix_array': {'aliases': {}}}"
            ]
          },
          "metadata": {
            "tags": []
          },
          "execution_count": 6
        }
      ]
    },
    {
      "cell_type": "code",
      "metadata": {
        "id": "jcadL3nEfbSr"
      },
      "source": [
        "import numpy as np\n",
        "import time"
      ],
      "execution_count": null,
      "outputs": []
    },
    {
      "cell_type": "code",
      "metadata": {
        "id": "JppC1Gc2e6s4"
      },
      "source": [
        "\n",
        "\n",
        "def compute_time(method):\n",
        " # Function computing time decorator\n",
        "  def timed(*args, **kwargs):\n",
        "    start_time = time.time()\n",
        "    result = method(*args, **kwargs)\n",
        "    query_time = time.time() - start_time\n",
        "    print(\"--- %s seconds ---\" % query_time)\n",
        "    return result, query_time\n",
        "  return timed\n",
        "\n",
        "# @compute_time\n",
        "# def test_pipeline(index, query):\n",
        "#   index.search(query, k=top_k)\n",
        "@compute_time\n",
        "def generate_dataset(n_data, dim):\n",
        "    return np.random.random((n_data, dim)).astype('float32')"
      ],
      "execution_count": null,
      "outputs": []
    },
    {
      "cell_type": "code",
      "metadata": {
        "id": "98RwXRVxfLrN"
      },
      "source": [
        "@compute_time\n",
        "def save_data_es(es, n_data, n_dim, index_name):\n",
        "\n",
        "    data = generate_dataset(n_data, n_dim)[0].tolist()\n",
        "            \n",
        "    docs = [{\n",
        "        \"_index\": index_name,\n",
        "        \"vector\": arr\n",
        "    } for arr in data]\n",
        "\n",
        "    bulk(es, docs)"
      ],
      "execution_count": null,
      "outputs": []
    },
    {
      "cell_type": "code",
      "metadata": {
        "colab": {
          "base_uri": "https://localhost:8080/"
        },
        "id": "9-9ltQ4ffM_0",
        "outputId": "ed2349a5-cf16-4cdd-dfb4-42a137055b87"
      },
      "source": [
        "save_data_es(es, N_DATA, NUM_DIMENTION, INDEX_NAME)"
      ],
      "execution_count": null,
      "outputs": [
        {
          "output_type": "stream",
          "text": [
            "--- 1.6587638854980469 seconds ---\n",
            "--- 371.99279522895813 seconds ---\n"
          ],
          "name": "stdout"
        },
        {
          "output_type": "execute_result",
          "data": {
            "text/plain": [
              "(None, 371.99279522895813)"
            ]
          },
          "metadata": {
            "tags": []
          },
          "execution_count": 10
        }
      ]
    },
    {
      "cell_type": "code",
      "metadata": {
        "id": "Vw2ppFSdfRaE"
      },
      "source": [
        "@compute_time\n",
        "def query_similarity_vector(vector_query, es, index, topk=10):\n",
        "    script_query = {\n",
        "        \"script_score\" :{\n",
        "            \"query\" : {\"match_all\": {}},\n",
        "            \"script\" : {\n",
        "                \"source\": \"cosineSimilarity(params.query_vector, 'vector')\",\n",
        "                \"params\" : {\"query_vector\" : vector_query}\n",
        "            }\n",
        "        }\n",
        "    }\n",
        "\n",
        "    response = es.search(index=index ,body={\"size\": topk,\"query\": script_query})\n",
        "    return response\n",
        "# query_similarity_vector(vector_query, es, \"test_matrix_array\", topk=10)"
      ],
      "execution_count": null,
      "outputs": []
    },
    {
      "cell_type": "code",
      "metadata": {
        "id": "3rCmkywMfya-"
      },
      "source": [
        "query_size = [100, 200, 300, 500, 1000, 1500, 2000, 5000, 8000, 10000]\n",
        "vector_query = np.random.random(NUM_DIMENTION).astype('float32')\n",
        "\n",
        "def test_query_time_es(es, index, vector_query, query_size):\n",
        "    list_query_time = []\n",
        "    for i, size in enumerate(query_size):\n",
        "        print(f\"Step {i + 1}, testing querying with size {size}:\")\n",
        "        _, query_time = query_similarity_vector(vector_query, es, index=index, topk=size)\n",
        "        list_query_time.append(query_time)\n",
        "        print()\n",
        "    return list_query_time\n"
      ],
      "execution_count": null,
      "outputs": []
    },
    {
      "cell_type": "markdown",
      "metadata": {
        "id": "idF16bJ9egQM"
      },
      "source": [
        "### Test query time at the first time"
      ]
    },
    {
      "cell_type": "code",
      "metadata": {
        "colab": {
          "base_uri": "https://localhost:8080/"
        },
        "id": "YB0101dXkH1v",
        "outputId": "8a2893d9-c598-41ca-9152-fc2f0ba9e7bd"
      },
      "source": [
        "first_running_time_es = test_query_time_es(es, INDEX_NAME, vector_query, query_size)"
      ],
      "execution_count": null,
      "outputs": [
        {
          "output_type": "stream",
          "text": [
            "Step 1, testing querying with size 100:\n",
            "--- 8.521234273910522 seconds ---\n",
            "\n",
            "Step 2, testing querying with size 200:\n",
            "--- 0.44986748695373535 seconds ---\n",
            "\n",
            "Step 3, testing querying with size 300:\n",
            "--- 0.4489884376525879 seconds ---\n",
            "\n",
            "Step 4, testing querying with size 500:\n",
            "--- 0.6112887859344482 seconds ---\n",
            "\n",
            "Step 5, testing querying with size 1000:\n",
            "--- 0.9408888816833496 seconds ---\n",
            "\n",
            "Step 6, testing querying with size 1500:\n",
            "--- 1.0319173336029053 seconds ---\n",
            "\n",
            "Step 7, testing querying with size 2000:\n",
            "--- 1.0117809772491455 seconds ---\n",
            "\n",
            "Step 8, testing querying with size 5000:\n",
            "--- 3.5643110275268555 seconds ---\n",
            "\n",
            "Step 9, testing querying with size 8000:\n",
            "--- 3.467865228652954 seconds ---\n",
            "\n",
            "Step 10, testing querying with size 10000:\n",
            "--- 2.6701133251190186 seconds ---\n",
            "\n"
          ],
          "name": "stdout"
        }
      ]
    },
    {
      "cell_type": "markdown",
      "metadata": {
        "id": "Qdy22ALogZQt"
      },
      "source": [
        "### Test query time the second time"
      ]
    },
    {
      "cell_type": "code",
      "metadata": {
        "id": "eXd04b98l0Cq",
        "colab": {
          "base_uri": "https://localhost:8080/"
        },
        "outputId": "bdfedcb7-9900-4916-f195-947b6cec73de"
      },
      "source": [
        "second_running_time_es = test_query_time_es(es, INDEX_NAME, vector_query, query_size)"
      ],
      "execution_count": null,
      "outputs": [
        {
          "output_type": "stream",
          "text": [
            "Step 1, testing querying with size 100:\n",
            "--- 0.30997776985168457 seconds ---\n",
            "\n",
            "Step 2, testing querying with size 200:\n",
            "--- 0.3172588348388672 seconds ---\n",
            "\n",
            "Step 3, testing querying with size 300:\n",
            "--- 0.33895444869995117 seconds ---\n",
            "\n",
            "Step 4, testing querying with size 500:\n",
            "--- 0.3968043327331543 seconds ---\n",
            "\n",
            "Step 5, testing querying with size 1000:\n",
            "--- 0.4583895206451416 seconds ---\n",
            "\n",
            "Step 6, testing querying with size 1500:\n",
            "--- 0.5181827545166016 seconds ---\n",
            "\n",
            "Step 7, testing querying with size 2000:\n",
            "--- 0.5957620143890381 seconds ---\n",
            "\n",
            "Step 8, testing querying with size 5000:\n",
            "--- 0.9026486873626709 seconds ---\n",
            "\n",
            "Step 9, testing querying with size 8000:\n",
            "--- 1.362140417098999 seconds ---\n",
            "\n",
            "Step 10, testing querying with size 10000:\n",
            "--- 1.5532948970794678 seconds ---\n",
            "\n"
          ],
          "name": "stdout"
        }
      ]
    },
    {
      "cell_type": "code",
      "metadata": {
        "id": "s-nxcHq1l2ym",
        "colab": {
          "base_uri": "https://localhost:8080/"
        },
        "outputId": "298e9b4e-5e76-4e1b-908b-be9574696402"
      },
      "source": [
        "second_running_time_es = test_query_time_es(es, INDEX_NAME, vector_query, query_size)"
      ],
      "execution_count": null,
      "outputs": [
        {
          "output_type": "stream",
          "text": [
            "Step 1, testing querying with size 100:\n",
            "--- 0.2976498603820801 seconds ---\n",
            "\n",
            "Step 2, testing querying with size 200:\n",
            "--- 0.3046691417694092 seconds ---\n",
            "\n",
            "Step 3, testing querying with size 300:\n",
            "--- 0.33043789863586426 seconds ---\n",
            "\n",
            "Step 4, testing querying with size 500:\n",
            "--- 0.35054588317871094 seconds ---\n",
            "\n",
            "Step 5, testing querying with size 1000:\n",
            "--- 0.427013635635376 seconds ---\n",
            "\n",
            "Step 6, testing querying with size 1500:\n",
            "--- 0.4995303153991699 seconds ---\n",
            "\n",
            "Step 7, testing querying with size 2000:\n",
            "--- 0.5261430740356445 seconds ---\n",
            "\n",
            "Step 8, testing querying with size 5000:\n",
            "--- 0.9145705699920654 seconds ---\n",
            "\n",
            "Step 9, testing querying with size 8000:\n",
            "--- 1.216963768005371 seconds ---\n",
            "\n",
            "Step 10, testing querying with size 10000:\n",
            "--- 1.4899396896362305 seconds ---\n",
            "\n"
          ],
          "name": "stdout"
        }
      ]
    },
    {
      "cell_type": "markdown",
      "metadata": {
        "id": "18axfRiqg1-Y"
      },
      "source": [
        "### Test runing time with new vector"
      ]
    },
    {
      "cell_type": "code",
      "metadata": {
        "id": "JLrJ_KnxmIU4",
        "colab": {
          "base_uri": "https://localhost:8080/"
        },
        "outputId": "9980ebad-0577-4f27-c1c8-75357f2c0201"
      },
      "source": [
        "vector_query = np.random.random(NUM_DIMENTION).astype('float32')\n",
        "running_time_new_vector_es = test_query_time_es(es, INDEX_NAME, vector_query, query_size)"
      ],
      "execution_count": null,
      "outputs": [
        {
          "output_type": "stream",
          "text": [
            "Step 1, testing querying with size 100:\n",
            "--- 0.3714640140533447 seconds ---\n",
            "\n",
            "Step 2, testing querying with size 200:\n",
            "--- 0.371229887008667 seconds ---\n",
            "\n",
            "Step 3, testing querying with size 300:\n",
            "--- 0.33730506896972656 seconds ---\n",
            "\n",
            "Step 4, testing querying with size 500:\n",
            "--- 0.38135361671447754 seconds ---\n",
            "\n",
            "Step 5, testing querying with size 1000:\n",
            "--- 0.6254808902740479 seconds ---\n",
            "\n",
            "Step 6, testing querying with size 1500:\n",
            "--- 0.8255596160888672 seconds ---\n",
            "\n",
            "Step 7, testing querying with size 2000:\n",
            "--- 0.6919822692871094 seconds ---\n",
            "\n",
            "Step 8, testing querying with size 5000:\n",
            "--- 2.0725815296173096 seconds ---\n",
            "\n",
            "Step 9, testing querying with size 8000:\n",
            "--- 2.1113197803497314 seconds ---\n",
            "\n",
            "Step 10, testing querying with size 10000:\n",
            "--- 2.051396369934082 seconds ---\n",
            "\n"
          ],
          "name": "stdout"
        }
      ]
    },
    {
      "cell_type": "code",
      "metadata": {
        "id": "u30h6Yx9g1kw"
      },
      "source": [
        "# es.indices.put_settings(index=INDEX_NAME,\n",
        "#                         body= {\"index\" : {\n",
        "#                                 \"max_result_window\" : 20000000\n",
        "#                               }})\n",
        "\n",
        "# query = {\n",
        "#     \"match_all\": {}\n",
        "# }\n"
      ],
      "execution_count": null,
      "outputs": []
    },
    {
      "cell_type": "markdown",
      "metadata": {
        "id": "3SEeFTB4uayr"
      },
      "source": [
        "## Elastic Search result visualization"
      ]
    },
    {
      "cell_type": "code",
      "metadata": {
        "colab": {
          "base_uri": "https://localhost:8080/",
          "height": 295
        },
        "id": "U0dVN7bOqjV-",
        "outputId": "db2537a5-9b1e-4279-8ead-3d278dc46bfa"
      },
      "source": [
        "import matplotlib.pyplot as plt\n",
        "\n",
        "plt.plot(first_running_time_es)\n",
        "plt.plot(second_running_time_es)\n",
        "plt.plot(running_time_new_vector_es)\n",
        "plt.xticks(range(len(query_size)), [str(size) for size in query_size])\n",
        "plt.title('Top k similarity query time')\n",
        "plt.ylabel('Query time')\n",
        "plt.xlabel('Query size')\n",
        "plt.legend(['first_running_el', 'second_running', 'second_running_with_new_vec'], loc='upper left')\n",
        "plt.show()\n"
      ],
      "execution_count": null,
      "outputs": [
        {
          "output_type": "display_data",
          "data": {
            "image/png": "[encoded data removed]",
            "text/plain": [
              "<Figure size 432x288 with 1 Axes>"
            ]
          },
          "metadata": {
            "tags": [],
            "needs_background": "light"
          }
        }
      ]
    },
    {
      "cell_type": "markdown",
      "metadata": {
        "id": "p9iQI-uBs0Xi"
      },
      "source": [
        "# Faiss"
      ]
    },
    {
      "cell_type": "code",
      "metadata": {
        "colab": {
          "base_uri": "https://localhost:8080/"
        },
        "id": "vDjs8wa5r7Xn",
        "outputId": "fd4ea4f4-a46b-418b-b6fd-ca4cf71627a0"
      },
      "source": [
        "!apt install libomp-dev\n",
        "!python -m pip install --upgrade faiss"
      ],
      "execution_count": null,
      "outputs": [
        {
          "output_type": "stream",
          "text": [
            "Collecting faiss\n",
            "\u001b[?25l  Downloading https://files.pythonhosted.org/packages/bd/1c/4ae6cb87cf0c09c25561ea48db11e25713b25c580909902a92c090b377c0/faiss-1.5.3-cp36-cp36m-manylinux1_x86_64.whl (4.7MB)\n",
            "\u001b[K     |████████████████████████████████| 4.7MB 5.8MB/s \n",
            "\u001b[?25hRequirement already satisfied, skipping upgrade: numpy in /usr/local/lib/python3.6/dist-packages (from faiss) (1.19.4)\n",
            "Installing collected packages: faiss\n",
            "Successfully installed faiss-1.5.3\n"
          ],
          "name": "stdout"
        }
      ]
    },
    {
      "cell_type": "code",
      "metadata": {
        "colab": {
          "base_uri": "https://localhost:8080/"
        },
        "id": "YqchZ0uatBMO",
        "outputId": "3faf667e-98ec-46ed-f1f2-76a5e3537c66"
      },
      "source": [
        "import faiss\n",
        "\n",
        "index_faiss = faiss.IndexFlatL2(NUM_DIMENTION)\n",
        "data_faiss = generate_dataset(N_DATA, NUM_DIMENTION)[0]\n",
        "index_faiss.add(data_faiss)"
      ],
      "execution_count": null,
      "outputs": [
        {
          "output_type": "stream",
          "text": [
            "--- 2.1675617694854736 seconds ---\n"
          ],
          "name": "stdout"
        }
      ]
    },
    {
      "cell_type": "code",
      "metadata": {
        "colab": {
          "base_uri": "https://localhost:8080/"
        },
        "id": "eLmtMD2ytaDR",
        "outputId": "8dfee8bd-fcc4-4182-f398-776d7fe53368"
      },
      "source": [
        "print(index_faiss.is_trained)"
      ],
      "execution_count": null,
      "outputs": [
        {
          "output_type": "stream",
          "text": [
            "True\n"
          ],
          "name": "stdout"
        }
      ]
    },
    {
      "cell_type": "code",
      "metadata": {
        "id": "Uuq5v9Idtps2"
      },
      "source": [
        "@compute_time\n",
        "def query_faiss(index_faiss, vector_query, query_size):\n",
        "    return index_faiss.search(vector_query, k=query_size)"
      ],
      "execution_count": null,
      "outputs": []
    },
    {
      "cell_type": "code",
      "metadata": {
        "id": "Y28WZQwNuYrl"
      },
      "source": [
        "query_size = [100, 200, 300, 500, 1000, 1500, 2000, 5000, 8000, 10000]\n",
        "vector_query = np.random.random((1, NUM_DIMENTION)).astype('float32')\n",
        "\n",
        "def test_query_time_faiss(index_faiss, vector_query, query_size):\n",
        "    list_query_time = []\n",
        "    for i, size in enumerate(query_size):\n",
        "        print(f\"Step {i + 1}, testing querying with size {size}:\")\n",
        "        _, query_time = query_faiss(index_faiss, vector_query, query_size=size)\n",
        "        list_query_time.append(query_time)\n",
        "        print()\n",
        "    return list_query_time\n"
      ],
      "execution_count": null,
      "outputs": []
    },
    {
      "cell_type": "code",
      "metadata": {
        "colab": {
          "base_uri": "https://localhost:8080/"
        },
        "id": "RhvHsF9euecH",
        "outputId": "7f5601a7-464a-42cb-a8ac-cdc35aec1f32"
      },
      "source": [
        "first_running_time_faiss = test_query_time_faiss(index_faiss, vector_query, query_size)"
      ],
      "execution_count": null,
      "outputs": [
        {
          "output_type": "stream",
          "text": [
            "Step 1, testing querying with size 100:\n",
            "--- 0.08854460716247559 seconds ---\n",
            "\n",
            "Step 2, testing querying with size 200:\n",
            "--- 0.07561326026916504 seconds ---\n",
            "\n",
            "Step 3, testing querying with size 300:\n",
            "--- 0.10492420196533203 seconds ---\n",
            "\n",
            "Step 4, testing querying with size 500:\n",
            "--- 0.07431292533874512 seconds ---\n",
            "\n",
            "Step 5, testing querying with size 1000:\n",
            "--- 0.07536005973815918 seconds ---\n",
            "\n",
            "Step 6, testing querying with size 1500:\n",
            "--- 0.07937192916870117 seconds ---\n",
            "\n",
            "Step 7, testing querying with size 2000:\n",
            "--- 0.07625436782836914 seconds ---\n",
            "\n",
            "Step 8, testing querying with size 5000:\n",
            "--- 0.07779788970947266 seconds ---\n",
            "\n",
            "Step 9, testing querying with size 8000:\n",
            "--- 0.08627891540527344 seconds ---\n",
            "\n",
            "Step 10, testing querying with size 10000:\n",
            "--- 0.0857551097869873 seconds ---\n",
            "\n"
          ],
          "name": "stdout"
        }
      ]
    },
    {
      "cell_type": "code",
      "metadata": {
        "colab": {
          "base_uri": "https://localhost:8080/",
          "height": 295
        },
        "id": "Uj4Pd3vZu5Zd",
        "outputId": "e4b66d92-6843-4748-bd09-32a2fbbfe6b7"
      },
      "source": [
        "plt.plot(second_running_time)\n",
        "plt.plot(first_running_time_faiss)\n",
        "plt.xticks(range(len(query_size)), [str(size) for size in query_size])\n",
        "plt.title('Top k similarity query time')\n",
        "plt.ylabel('Query time')\n",
        "plt.xlabel('Query size')\n",
        "plt.legend(['ElasticSearch', 'Faiss'], loc='upper left')\n",
        "plt.show()"
      ],
      "execution_count": null,
      "outputs": [
        {
          "output_type": "display_data",
          "data": {
            "image/png": "[encoded data removed]",
            "text/plain": [
              "<Figure size 432x288 with 1 Axes>"
            ]
          },
          "metadata": {
            "tags": [],
            "needs_background": "light"
          }
        }
      ]
    },
    {
      "cell_type": "code",
      "metadata": {
        "id": "69yyZj6jwV1Z"
      },
      "source": [
        "import pandas as pd\n",
        "index = [\"ElasticSearch\", 'Faiss']\n",
        "df_result = pd.DataFrame([second_running_time, first_running_time_faiss],\n",
        "                        columns=[\"query_size=\"+str(x) for x in query_size], index=index)"
      ],
      "execution_count": null,
      "outputs": []
    },
    {
      "cell_type": "code",
      "metadata": {
        "colab": {
          "base_uri": "https://localhost:8080/",
          "height": 131
        },
        "id": "_1MEeCPBww46",
        "outputId": "5984e7a9-78a5-4d13-84e3-cd48d96f9112"
      },
      "source": [
        "df_result.head()"
      ],
      "execution_count": null,
      "outputs": [
        {
          "output_type": "execute_result",
          "data": {
            "text/html": [
              "<div>\n",
              "<style scoped>\n",
              "    .dataframe tbody tr th:only-of-type {\n",
              "        vertical-align: middle;\n",
              "    }\n",
              "\n",
              "    .dataframe tbody tr th {\n",
              "        vertical-align: top;\n",
              "    }\n",
              "\n",
              "    .dataframe thead th {\n",
              "        text-align: right;\n",
              "    }\n",
              "</style>\n",
              "<table border=\"1\" class=\"dataframe\">\n",
              "  <thead>\n",
              "    <tr style=\"text-align: right;\">\n",
              "      <th></th>\n",
              "      <th>query_size=100</th>\n",
              "      <th>query_size=100</th>\n",
              "      <th>query_size=200</th>\n",
              "      <th>query_size=300</th>\n",
              "      <th>query_size=500</th>\n",
              "      <th>query_size=1000</th>\n",
              "      <th>query_size=1500</th>\n",
              "      <th>query_size=2000</th>\n",
              "      <th>query_size=5000</th>\n",
              "      <th>query_size=8000</th>\n",
              "      <th>query_size=10000</th>\n",
              "    </tr>\n",
              "  </thead>\n",
              "  <tbody>\n",
              "    <tr>\n",
              "      <th>ElasticSearch</th>\n",
              "      <td>0.297650</td>\n",
              "      <td>0.304669</td>\n",
              "      <td>0.330438</td>\n",
              "      <td>0.350546</td>\n",
              "      <td>0.427014</td>\n",
              "      <td>0.499530</td>\n",
              "      <td>0.526143</td>\n",
              "      <td>0.914571</td>\n",
              "      <td>1.216964</td>\n",
              "      <td>1.48994</td>\n",
              "      <td>NaN</td>\n",
              "    </tr>\n",
              "    <tr>\n",
              "      <th>Faiss</th>\n",
              "      <td>0.084793</td>\n",
              "      <td>0.075434</td>\n",
              "      <td>0.076191</td>\n",
              "      <td>0.073689</td>\n",
              "      <td>0.075210</td>\n",
              "      <td>0.076117</td>\n",
              "      <td>0.074544</td>\n",
              "      <td>0.075104</td>\n",
              "      <td>0.078600</td>\n",
              "      <td>0.07891</td>\n",
              "      <td>0.090949</td>\n",
              "    </tr>\n",
              "  </tbody>\n",
              "</table>\n",
              "</div>"
            ],
            "text/plain": [
              "               query_size=100  ...  query_size=10000\n",
              "ElasticSearch        0.297650  ...               NaN\n",
              "Faiss                0.084793  ...          0.090949\n",
              "\n",
              "[2 rows x 11 columns]"
            ]
          },
          "metadata": {
            "tags": []
          },
          "execution_count": 42
        }
      ]
    },
    {
      "cell_type": "code",
      "metadata": {
        "id": "_HXamB6fv4RC"
      },
      "source": [
        ""
      ],
      "execution_count": null,
      "outputs": []
    }
  ]
}